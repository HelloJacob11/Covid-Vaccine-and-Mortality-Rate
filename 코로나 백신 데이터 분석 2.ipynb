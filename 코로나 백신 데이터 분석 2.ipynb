{
 "cells": [
  {
   "cell_type": "markdown",
   "id": "afdd99c0",
   "metadata": {},
   "source": [
    "가설: 백신의 접종률이 증가할수록 사망률 또는 전체 확진자 대비 중증 환자들의 수는 감소한다. "
   ]
  },
  {
   "cell_type": "code",
   "execution_count": 2,
   "id": "2ace552b",
   "metadata": {},
   "outputs": [],
   "source": [
    "import requests \n",
    "from bs4 import BeautifulSoup\n",
    "def import_data(start_date,end_date):\n",
    "    url = 'http://openapi.data.go.kr/openapi/service/rest/Covid19/getCovid19SidoInfStateJson'\n",
    "    params ={'serviceKey' : '1BS8qGfbuuLCG5nQ9QpOP8CQb/Eyz9oQ7j9jC4FylCgLRiLC/yIQrBy6YwnXqxKmqcZQIyw+DvcFWOfTvWIJCg==',\n",
    "             'pageNo' : '1', \n",
    "             'numOfRows' : '10', \n",
    "             'startCreateDt' : start_date, \n",
    "             'endCreateDt' : end_date }\n",
    "\n",
    "    response = requests.get(url, params=params)\n",
    "    data=BeautifulSoup(response.text, \"lxml\")\n",
    "    items=data.find_all(\"item\")\n",
    "    DEFCNT = []\n",
    "    DEATHCNT=[]\n",
    "    date = []\n",
    "    for item in items:\n",
    "        if item.find(\"gubun\").get_text() == \"합계\":\n",
    "            DEFCNT.append(int(item.find(\"defcnt\").get_text()))\n",
    "            DEATHCNT.append(int(item.find(\"deathcnt\").get_text()))\n",
    "            date.append(item.find(\"stdday\").get_text())\n",
    "    DEFCNT.reverse()\n",
    "    DEATHCNT.reverse()\n",
    "    date.reverse()\n",
    "    return DEFCNT, DEATHCNT,date\n",
    "            "
   ]
  },
  {
   "cell_type": "code",
   "execution_count": 3,
   "id": "367d501c",
   "metadata": {},
   "outputs": [
    {
     "name": "stderr",
     "output_type": "stream",
     "text": [
      "C:\\ProgramData\\Anaconda3\\lib\\site-packages\\bs4\\builder\\__init__.py:545: XMLParsedAsHTMLWarning: It looks like you're parsing an XML document using an HTML parser. If this really is an HTML document (maybe it's XHTML?), you can ignore or filter this warning. If it's XML, you should know that using an XML parser will be more reliable. To parse this document as XML, make sure you have the lxml package installed, and pass the keyword argument `features=\"xml\"` into the BeautifulSoup constructor.\n",
      "  warnings.warn(\n"
     ]
    },
    {
     "name": "stdout",
     "output_type": "stream",
     "text": [
      "2021년 02월 26일 00시\n",
      "2021년 05월 14일 00시\n",
      "2021년 12월 02일 00시\n"
     ]
    },
    {
     "data": {
      "image/png": "[encoded data removed]",
      "text/plain": [
       "<Figure size 432x288 with 1 Axes>"
      ]
     },
     "metadata": {
      "needs_background": "light"
     },
     "output_type": "display_data"
    },
    {
     "data": {
      "image/png": "[encoded data removed]",
      "text/plain": [
       "<Figure size 864x288 with 2 Axes>"
      ]
     },
     "metadata": {
      "needs_background": "light"
     },
     "output_type": "display_data"
    }
   ],
   "source": [
    "import matplotlib.pyplot as plt\n",
    "DEFCNT,DEATHCNT,date=import_data(\"20200120\",\"20210225\")\n",
    "DEFCNT2,DEATHCNT2,date2=import_data(\"20210226\",\"2022525\")\n",
    "Mortality=[]\n",
    "\n",
    "Mortality2=[]\n",
    "idx = len(date)\n",
    "idx2=len(date)\n",
    "for k in range(1,len(date2)):\n",
    "    if (\"2021년 12월 02일\" in date2[k]):\n",
    "        idx += k\n",
    "    if (\"2021년 05월 14일\" in date2[k]):\n",
    "        idx2+=k\n",
    "for i in range(1,len(date)):\n",
    "    #print(sum_P,sum_Death)\n",
    "    Mortality.append((DEATHCNT[i]/DEFCNT[i])*100)\n",
    "#print(Mortality)\n",
    "                     \n",
    "for j in range(0,len(date2)):\n",
    "    Mortality2.append((DEATHCNT2[j]/DEFCNT2[j])*100)\n",
    "#print()\n",
    "#print(Mortality2)\n",
    "#2차 접종-750일\n",
    "DeathOmicron=[]\n",
    "x1 = [i for i in range(len(Mortality))]\n",
    "x2 = [i for  i in range(len(Mortality2))]\n",
    "ve_X = [422]\n",
    "ve_Y =  [Mortality2[0]]\n",
    "print(date2[0])\n",
    "ve_X2 = [idx2]\n",
    "ve_Y2 =  [Mortality2[idx2-len(date)]]\n",
    "print(date2[idx2-len(date)])\n",
    "o_X=[idx]\n",
    "o_Y=[Mortality2[idx-len(date)]]\n",
    "print(date2[idx-len(date)])\n",
    "for l in range(idx-len(date),750-len(date)):\n",
    "    DeathOmicron.append(DEATHCNT2[l])\n",
    "plt.subplot(3,1,1)\n",
    "plt.plot(x1,Mortality,'red',x2,Mortality2,'orange')\n",
    "plt.figure(figsize=(12,4))\n",
    "plt.subplot(3,1,2)\n",
    "plt.plot(Mortality+Mortality2)\n",
    "plt.scatter(ve_X,ve_Y,color = \"green\")\n",
    "plt.scatter(ve_X2,ve_Y2,color = \"orange\")\n",
    "plt.scatter(o_X,o_Y,color=\"red\")\n",
    "plt.subplot(3,1,3)\n",
    "plt.plot(DeathOmicron)\n",
    "plt.show()"
   ]
  },
  {
   "cell_type": "markdown",
   "id": "3918ff68",
   "metadata": {},
   "source": [
    "To prove my hypothesis, I drew two graphs that illustrate the change in mortality rate over time. The first model compares the change in mortality rate before the first dose vaccination and after the first dose vaccination where x-axis represents the number of days and y-axis represents the mortality rate for each day(Mortality rate=). The red line shows the change in mortality rate from 20200120 to 20210225 in which first dose of vaccines have not been distributed to the public. The orange line shows the change in mortality rate from 20210226(20210226 is the first day of inocoluation) to 20220525 in which first dose of vaccines have been inoculated. The second model shows the general trend in change in mortality rate ranging from 20200120 to 20220525 where x-axis represents the number of days and y-axis represents the mortality rate for each day. There are also plotted dots in second model in which green dot represents the starting day of the first dose vaccination, yellow dot represents the starting day of the second dose vaccination, and red dot represents the day in which first case of omicron variant was confirmed. "
   ]
  },
  {
   "cell_type": "code",
   "execution_count": null,
   "id": "a3964637",
   "metadata": {},
   "outputs": [],
   "source": []
  },
  {
   "cell_type": "code",
   "execution_count": null,
   "id": "64991dec",
   "metadata": {},
   "outputs": [],
   "source": []
  }
 ],
 "metadata": {
  "kernelspec": {
   "display_name": "Python 3 (ipykernel)",
   "language": "python",
   "name": "python3"
  },
  "language_info": {
   "codemirror_mode": {
    "name": "ipython",
    "version": 3
   },
   "file_extension": ".py",
   "mimetype": "text/x-python",
   "name": "python",
   "nbconvert_exporter": "python",
   "pygments_lexer": "ipython3",
   "version": "3.9.12"
  }
 },
 "nbformat": 4,
 "nbformat_minor": 5
}
